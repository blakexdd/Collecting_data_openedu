{
 "cells": [
  {
   "cell_type": "code",
   "execution_count": null,
   "metadata": {},
   "outputs": [],
   "source": []
  },
  {
   "cell_type": "code",
   "execution_count": 1,
   "metadata": {},
   "outputs": [],
   "source": [
    "import pandas as pd"
   ]
  },
  {
   "cell_type": "code",
   "execution_count": 2,
   "metadata": {},
   "outputs": [],
   "source": [
    "data = pd.read_csv('online_edu_full.csv', index_col=0)"
   ]
  },
  {
   "cell_type": "code",
   "execution_count": 3,
   "metadata": {},
   "outputs": [
    {
     "data": {
      "text/html": [
       "<div>\n",
       "<style scoped>\n",
       "    .dataframe tbody tr th:only-of-type {\n",
       "        vertical-align: middle;\n",
       "    }\n",
       "\n",
       "    .dataframe tbody tr th {\n",
       "        vertical-align: top;\n",
       "    }\n",
       "\n",
       "    .dataframe thead th {\n",
       "        text-align: right;\n",
       "    }\n",
       "</style>\n",
       "<table border=\"1\" class=\"dataframe\">\n",
       "  <thead>\n",
       "    <tr style=\"text-align: right;\">\n",
       "      <th></th>\n",
       "      <th>URL</th>\n",
       "      <th>Название курса</th>\n",
       "      <th>Входные требования</th>\n",
       "      <th>Ключевые слова-пререквизиты</th>\n",
       "      <th>Содержание курса</th>\n",
       "      <th>Ключевые слова содержания</th>\n",
       "      <th>Направления подготовки</th>\n",
       "    </tr>\n",
       "  </thead>\n",
       "  <tbody>\n",
       "    <tr>\n",
       "      <th>0</th>\n",
       "      <td>https://online.edu.ru/public/course.xhtml?face...</td>\n",
       "      <td>Теория игр\\n</td>\n",
       "      <td></td>\n",
       "      <td>NaN</td>\n",
       "      <td>1. Стратегические взаимодействия 2. Доминиру...</td>\n",
       "      <td>доминируемые стратегии, игры с несовершенной и...</td>\n",
       "      <td>41.03.04 Политология                          ...</td>\n",
       "    </tr>\n",
       "    <tr>\n",
       "      <th>1</th>\n",
       "      <td>https://online.edu.ru/public/course.xhtml?face...</td>\n",
       "      <td>Методы обработки навигационной измерительной и...</td>\n",
       "      <td></td>\n",
       "      <td>NaN</td>\n",
       "      <td>В курсе рассматриваются следующие темы:   Эл...</td>\n",
       "      <td>scilab, оптимальные оценки, случайные последов...</td>\n",
       "      <td>24.03.02 Системы управления движением и навига...</td>\n",
       "    </tr>\n",
       "    <tr>\n",
       "      <th>2</th>\n",
       "      <td>https://online.edu.ru/public/course.xhtml?face...</td>\n",
       "      <td>Методы вычислительной математики\\n</td>\n",
       "      <td></td>\n",
       "      <td>NaN</td>\n",
       "      <td>Раздел 1. Элементарная теория погрешностей....</td>\n",
       "      <td>методы решения нелинейных уравнений, численное...</td>\n",
       "      <td>01.03.02 Прикладная математика и информатика  ...</td>\n",
       "    </tr>\n",
       "    <tr>\n",
       "      <th>3</th>\n",
       "      <td>https://online.edu.ru/public/course.xhtml?face...</td>\n",
       "      <td>Функциональное программирование: базовый курс\\n</td>\n",
       "      <td></td>\n",
       "      <td>NaN</td>\n",
       "      <td>В курсе рассматриваются следующие темы: 1. В...</td>\n",
       "      <td>рекурсия, списки в языке lisp, символы в языке...</td>\n",
       "      <td>09.00.00 Информатика и вычислительная техника ...</td>\n",
       "    </tr>\n",
       "    <tr>\n",
       "      <th>4</th>\n",
       "      <td>https://online.edu.ru/public/course.xhtml?face...</td>\n",
       "      <td>Веб-программирование\\n</td>\n",
       "      <td></td>\n",
       "      <td>NaN</td>\n",
       "      <td>В курсе рассматриваются следующие темы:  1. ...</td>\n",
       "      <td>позиционирование, разметка, html, декоративные...</td>\n",
       "      <td>09.00.00 Информатика и вычислительная техника ...</td>\n",
       "    </tr>\n",
       "  </tbody>\n",
       "</table>\n",
       "</div>"
      ],
      "text/plain": [
       "                                                 URL  \\\n",
       "0  https://online.edu.ru/public/course.xhtml?face...   \n",
       "1  https://online.edu.ru/public/course.xhtml?face...   \n",
       "2  https://online.edu.ru/public/course.xhtml?face...   \n",
       "3  https://online.edu.ru/public/course.xhtml?face...   \n",
       "4  https://online.edu.ru/public/course.xhtml?face...   \n",
       "\n",
       "                                      Название курса Входные требования  \\\n",
       "0                                       Теория игр\\n                      \n",
       "1  Методы обработки навигационной измерительной и...                      \n",
       "2                 Методы вычислительной математики\\n                      \n",
       "3    Функциональное программирование: базовый курс\\n                      \n",
       "4                             Веб-программирование\\n                      \n",
       "\n",
       "  Ключевые слова-пререквизиты  \\\n",
       "0                         NaN   \n",
       "1                         NaN   \n",
       "2                         NaN   \n",
       "3                         NaN   \n",
       "4                         NaN   \n",
       "\n",
       "                                    Содержание курса  \\\n",
       "0    1. Стратегические взаимодействия 2. Доминиру...   \n",
       "1    В курсе рассматриваются следующие темы:   Эл...   \n",
       "2     Раздел 1. Элементарная теория погрешностей....   \n",
       "3    В курсе рассматриваются следующие темы: 1. В...   \n",
       "4    В курсе рассматриваются следующие темы:  1. ...   \n",
       "\n",
       "                           Ключевые слова содержания  \\\n",
       "0  доминируемые стратегии, игры с несовершенной и...   \n",
       "1  scilab, оптимальные оценки, случайные последов...   \n",
       "2  методы решения нелинейных уравнений, численное...   \n",
       "3  рекурсия, списки в языке lisp, символы в языке...   \n",
       "4  позиционирование, разметка, html, декоративные...   \n",
       "\n",
       "                              Направления подготовки  \n",
       "0  41.03.04 Политология                          ...  \n",
       "1  24.03.02 Системы управления движением и навига...  \n",
       "2  01.03.02 Прикладная математика и информатика  ...  \n",
       "3  09.00.00 Информатика и вычислительная техника ...  \n",
       "4  09.00.00 Информатика и вычислительная техника ...  "
      ]
     },
     "execution_count": 3,
     "metadata": {},
     "output_type": "execute_result"
    }
   ],
   "source": [
    "data.head()"
   ]
  },
  {
   "cell_type": "code",
   "execution_count": 3,
   "metadata": {},
   "outputs": [],
   "source": [
    "vacancy_data = pd.read_csv(r'Z:\\Collecting_data_openedu\\first.csv', index_col=0)"
   ]
  },
  {
   "cell_type": "code",
   "execution_count": 29,
   "metadata": {},
   "outputs": [
    {
     "name": "stdout",
     "output_type": "stream",
     "text": [
      "1610\n",
      "2000\n",
      "713\n",
      "164\n",
      "377\n",
      "767\n",
      "893\n",
      "2000\n",
      "2000\n",
      "854\n",
      "2000\n",
      "2000\n",
      "273\n",
      "2000\n",
      "2000\n",
      "1575\n",
      "995\n",
      "567\n"
     ]
    }
   ],
   "source": [
    "old_data = vacancy_data\n",
    "for file_num in range(4, 22):\n",
    "    new_data = pd.read_csv(r\"Z:\\Collecting_data_openedu\" + r\"\\\\\" + str(file_num) + '.csv' , index_col=0)\n",
    "    old_data = pd.concat([old_data, new_data], axis=0, ignore_index=True)"
   ]
  },
  {
   "cell_type": "code",
   "execution_count": 32,
   "metadata": {},
   "outputs": [],
   "source": [
    "old_data = old_data.fillna('')"
   ]
  },
  {
   "cell_type": "code",
   "execution_count": 33,
   "metadata": {},
   "outputs": [],
   "source": [
    "new_data = pd.DataFrame()\n",
    "new_data['Название'] = old_data['Название']\n",
    "new_data['Компания'] = old_data['Компания']\n",
    "new_data['Местоположение'] = old_data['Местоположение']\n",
    "new_data['Занятость'] = old_data['Занятость']\n",
    "new_data['Требования по опыту'] = old_data['Требования по опыту']\n",
    "new_data['Зарплата'] = old_data['Зарплата']\n",
    "new_data['Ключевые навыки'] = old_data['Ключевые навыки']\n",
    "new_data['Требования + обязанности'] = old_data['Требования по умениям'] + old_data['Должностные обязанности']\n"
   ]
  },
  {
   "cell_type": "code",
   "execution_count": 39,
   "metadata": {},
   "outputs": [],
   "source": [
    "new_data = new_data[new_data['Требования + обязанности'] != ' ']"
   ]
  },
  {
   "cell_type": "code",
   "execution_count": 40,
   "metadata": {},
   "outputs": [],
   "source": [
    "new_data.index = range(len(new_data['Требования + обязанности']))"
   ]
  },
  {
   "cell_type": "code",
   "execution_count": 42,
   "metadata": {},
   "outputs": [],
   "source": [
    "new_data.to_csv('vacancies_data.csv')"
   ]
  },
  {
   "cell_type": "code",
   "execution_count": null,
   "metadata": {},
   "outputs": [],
   "source": []
  },
  {
   "cell_type": "code",
   "execution_count": null,
   "metadata": {},
   "outputs": [],
   "source": []
  }
 ],
 "metadata": {
  "kernelspec": {
   "display_name": "Python 3",
   "language": "python",
   "name": "python3"
  },
  "language_info": {
   "codemirror_mode": {
    "name": "ipython",
    "version": 3
   },
   "file_extension": ".py",
   "mimetype": "text/x-python",
   "name": "python",
   "nbconvert_exporter": "python",
   "pygments_lexer": "ipython3",
   "version": "3.7.4"
  }
 },
 "nbformat": 4,
 "nbformat_minor": 1
}
